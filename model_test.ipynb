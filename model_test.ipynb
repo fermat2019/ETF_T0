{
 "cells": [
  {
   "cell_type": "markdown",
   "metadata": {},
   "source": [
    "## 测试 mci_gru 框架"
   ]
  },
  {
   "cell_type": "code",
   "execution_count": null,
   "metadata": {
    "vscode": {
     "languageId": "plaintext"
    }
   },
   "outputs": [],
   "source": [
    "from tool import *\n",
    "import torch\n",
    "import torch.nn as nn\n",
    "import torch.nn.functional as F\n",
    "\n",
    "class ManualGRU(nn.Module):\n",
    "    def __init__(self, input_size, hidden_size):\n",
    "        super(ManualGRU, self).__init__()\n",
    "        self.hidden_size = hidden_size\n",
    "\n",
    "        # 输入到隐藏层的权重\n",
    "        self.weight_ih = nn.Parameter(torch.randn(3 * hidden_size, input_size))\n",
    "        # 隐藏层到隐藏层的权重\n",
    "        self.weight_hh = nn.Parameter(torch.randn(3 * hidden_size, hidden_size))\n",
    "        # 偏置项\n",
    "        self.bias_ih = nn.Parameter(torch.randn(3 * hidden_size))\n",
    "        self.bias_hh = nn.Parameter(torch.randn(3 * hidden_size))\n",
    "\n",
    "    def forward(self, input, h_prev):\n",
    "        \"\"\"\n",
    "        input: (batch_size, input_size)\n",
    "        h_prev: (batch_size, hidden_size)\n",
    "        \"\"\"\n",
    "        # 计算输入和隐藏状态的线性变换\n",
    "        gates_ih = torch.mm(input, self.weight_ih.t()) + self.bias_ih\n",
    "        gates_hh = torch.mm(h_prev, self.weight_hh.t()) + self.bias_hh\n",
    "\n",
    "        # 将线性变换的结果拆分为重置门、更新门和候选隐藏状态\n",
    "        r_gate, z_gate, n_gate = gates_ih.chunk(3, 1)\n",
    "        r_gate_h, z_gate_h, n_gate_h = gates_hh.chunk(3, 1)\n",
    "\n",
    "        # 重置门和更新门的激活函数\n",
    "        r_gate = torch.sigmoid(r_gate + r_gate_h)\n",
    "        z_gate = torch.sigmoid(z_gate + z_gate_h)\n",
    "\n",
    "        # 候选隐藏状态\n",
    "        n_gate = torch.tanh(n_gate + r_gate * n_gate_h)\n",
    "\n",
    "        # 更新隐藏状态\n",
    "        h_next = (1 - z_gate) * n_gate + z_gate * h_prev\n",
    "\n",
    "        return h_next"
   ]
  },
  {
   "cell_type": "code",
   "execution_count": null,
   "metadata": {
    "vscode": {
     "languageId": "plaintext"
    }
   },
   "outputs": [],
   "source": [
    "from tool import *\n",
    "import torch\n",
    "import torch.nn as nn\n",
    "import torch.nn.functional as F\n",
    "\n",
    "class ManualGRU(nn.Module):\n",
    "    def __init__(self, input_size, hidden_size):\n",
    "        super(ManualGRU, self).__init__()\n",
    "        self.hidden_size = hidden_size\n",
    "\n",
    "        # 输入到隐藏层的权重\n",
    "        self.weight_ih = nn.Parameter(torch.randn(3 * hidden_size, input_size))\n",
    "        # 隐藏层到隐藏层的权重\n",
    "        self.weight_hh = nn.Parameter(torch.randn(3 * hidden_size, hidden_size))\n",
    "        # 偏置项\n",
    "        self.bias_ih = nn.Parameter(torch.randn(3 * hidden_size))\n",
    "        self.bias_hh = nn.Parameter(torch.randn(3 * hidden_size))\n",
    "\n",
    "    def forward(self, input, h_prev):\n",
    "        \"\"\"\n",
    "        input: (batch_size, input_size)\n",
    "        h_prev: (batch_size, hidden_size)\n",
    "        \"\"\"\n",
    "        # 计算输入和隐藏状态的线性变换\n",
    "        gates_ih = torch.mm(input, self.weight_ih.t()) + self.bias_ih\n",
    "        gates_hh = torch.mm(h_prev, self.weight_hh.t()) + self.bias_hh\n",
    "\n",
    "        # 将线性变换的结果拆分为重置门、更新门和候选隐藏状态\n",
    "        r_gate, z_gate, n_gate = gates_ih.chunk(3, 1)\n",
    "        r_gate_h, z_gate_h, n_gate_h = gates_hh.chunk(3, 1)\n",
    "\n",
    "        # 重置门和更新门的激活函数\n",
    "        r_gate = torch.sigmoid(r_gate + r_gate_h)\n",
    "        z_gate = torch.sigmoid(z_gate + z_gate_h)\n",
    "\n",
    "        # 候选隐藏状态\n",
    "        n_gate = torch.tanh(n_gate + r_gate * n_gate_h)\n",
    "\n",
    "        # 更新隐藏状态\n",
    "        h_next = (1 - z_gate) * n_gate + z_gate * h_prev\n",
    "\n",
    "        return h_next"
   ]
  },
  {
   "cell_type": "code",
   "execution_count": null,
   "metadata": {
    "vscode": {
     "languageId": "plaintext"
    }
   },
   "outputs": [],
   "source": []
  }
 ],
 "metadata": {
  "language_info": {
   "name": "python"
  }
 },
 "nbformat": 4,
 "nbformat_minor": 2
}
